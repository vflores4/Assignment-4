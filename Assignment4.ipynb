{
 "cells": [
  {
   "cell_type": "markdown",
   "metadata": {},
   "source": [
    "# Assignment 4 - Solution of Mass and Momentum Equations\n",
    "\n",
    "Solve the following problems and explain your results.\n",
    "\n",
    "Solve all problems using water as the fluid with $\\rho=1000$ [kg/m$^3$], $\\mu=1 \\times 10^{-3}$ [kg/m$\\cdot$s].  Problems 1-2 should be solved for a 4 [m] long, 0.02 $\\times$ 0.02 [m] cross-section duct discretized using 10 equal-length control-volumes.  Also, for simplicity, use UDS as your advection scheme for problems 1-2.  Higher-order advection schemes are considered in question 3.\n",
    "\n",
    "Heat transfer is not considered in these problems, so the energy equation does not need to be solved."
   ]
  },
  {
   "cell_type": "markdown",
   "metadata": {},
   "source": [
    "## Problem 1\n",
    "\n",
    "For $\\tau_w=0$, set $u = \\hat{u} = 10$ [m/s] and $p = 0$ [Pa] everywhere as initial conditions.  These are the exact solutions to the mass and momentum equations for constant duct area.  Do one time step (using any time step size) and make sure that your code accepts this as the exact solution.  Repeat this problem with $u = \\hat{u} = -10$ [m/s] to ensure that your code has no directional dependence.  Describe the boundary conditions used for the two cases, including the values of $\\alpha_e$."
   ]
  },
  {
   "cell_type": "code",
   "execution_count": null,
   "metadata": {},
   "outputs": [],
   "source": []
  },
  {
   "cell_type": "code",
   "execution_count": null,
   "metadata": {},
   "outputs": [],
   "source": [
    "class ExtrapolatedBc:\n",
    "    \"\"\"Class defining an extrapolated boundary condition\"\"\"\n",
    "\n",
    "    def __init__(self, phi, grid, loc):\n",
    "        \"\"\"Constructor\n",
    "            phi ........ field variable array\n",
    "            grid ....... grid\n",
    "            loc ........ boundary location\n",
    "        \"\"\"\n",
    "        self._phi = phi\n",
    "        self._grid = grid\n",
    "        self._loc = loc\n",
    "\n",
    "    def value(self):\n",
    "        \"\"\"Return the boundary condition value\"\"\"\n",
    "        if self._loc is BoundaryLocation.WEST:\n",
    "            return # Fill in expression\n",
    "        elif self._loc is BoundaryLocation.EAST:\n",
    "            return # Fill in expression\n",
    "        else:\n",
    "            raise ValueError(\"Unknown boundary location\")\n",
    "\n",
    "    def coeff(self):\n",
    "        \"\"\"Return the linearization coefficient\"\"\"\n",
    "        if self._loc is BoundaryLocation.WEST:\n",
    "            return # Fill in expression\n",
    "        elif self._loc is BoundaryLocation.EAST:\n",
    "            return # Fill in expression\n",
    "        else:\n",
    "            raise ValueError(\"Unknown boundary location\")\n",
    "\n",
    "    def apply(self):\n",
    "        \"\"\"Applies the boundary condition in the referenced field variable array\"\"\"\n",
    "        if self._loc is BoundaryLocation.WEST:\n",
    "            pass # Fill in expression below\n",
    "            #self._phi[0] = \n",
    "        elif self._loc is BoundaryLocation.EAST:\n",
    "            pass # Fill in expression below\n",
    "            #self._phi[-1] = \n",
    "        else:\n",
    "            raise ValueError(\"Unknown boundary location\")"
   ]
  },
  {
   "cell_type": "code",
   "execution_count": null,
   "metadata": {},
   "outputs": [],
   "source": []
  },
  {
   "cell_type": "code",
   "execution_count": null,
   "metadata": {},
   "outputs": [],
   "source": []
  },
  {
   "cell_type": "code",
   "execution_count": null,
   "metadata": {},
   "outputs": [],
   "source": []
  },
  {
   "cell_type": "markdown",
   "metadata": {},
   "source": [
    "## Problem 2\n",
    "\n",
    "For turbulent flow in a long duct, the wall shear stress can be approximated by:\n",
    "\n",
    "$$\n",
    "    \\frac{\\tau_w}{\\frac{1}{2} \\rho U^2} = C_f = (1.58 \\ln(Re)-3.28)^{-2}\n",
    "$$\n",
    "\n",
    "where $Re=\\rho D_h U/\\mu > 10^4$ and $D_h=4A/P_o$ is the hydraulic diameter of the duct.  Implement the wall shear stress model into your code and  linearize appropriately.  Note that the force on a control-volume can be computed using the above expression as:\n",
    "\n",
    "$$\n",
    "    F_u = \\tau_w A_o = C_f \\frac{1}{2} \\rho U^2 A_o\n",
    "$$\n",
    "\n",
    "Note that $C_f$ changes very slowly with $U$, so you will only need to linearize the $U^2$ term (not the implicit dependence of $Re$ on $U$).  Impose suitable boundary conditions on the ends of the duct and initialize the problem with $u = \\hat{u} = 10$ [m/s] and $p = 0$ [Pa].  Check that the pressure is exactly correct after emerging from enough iterations by comparing your result with the exact solution calculated from the above expressions. Why is the result not correct after the first iteration?"
   ]
  },
  {
   "cell_type": "markdown",
   "metadata": {},
   "source": [
    "## Problem 3\n",
    "\n",
    "In this problem, we explore the flow in a frictionless converging-diverging circular duct.  We will now consider the utility of second-order advection schemes to explore errors associated with UDS.  Implement the CDS and QUICK schemes into the momentum equation.  You can essentially use what you created in the previous assignment for this task.\n",
    "\n",
    "![Duct](Figures/4-Duct.png)\n",
    "\n",
    "The duct is defined by:\n",
    "$$\n",
    "    r=2H_t + H_t cos \\left( 2\\pi \\frac{x}{L} \\right)\n",
    "$$\n",
    "\n",
    "where $L=1$ [m], $H_t=0.01$ [m].  You will have to modify the `Grid` class in order to solve this problem. Keep the general structure of the class, but modify the calculation of the areas and volumes appropriately. The inlet velocity should be imposed as $u=2$ [m/s].  To eliminate friction in the duct, be sure to turn off the wall friction terms from the previous problem.  Solve the problem using 8, 16, 32 and 64 equal-length control-volumes and calculate the loss in dynamic head from each converged solution.  The dynamic head loss is given as:\n",
    "\n",
    "$$\n",
    "    C_D= \\frac{P_{in} - P_{out}}{\\frac{1}{2} \\rho U_{in}^2}\n",
    "$$\n",
    "\n",
    "Compare your solutions from UDS with those from the second-order schemes and quantify the convergence characteristics of each.  Plot the velocities and pressures versus $x$ for enough of the cases to visualize the results properly.  What should $C_D$ become for this problem?"
   ]
  },
  {
   "cell_type": "code",
   "execution_count": null,
   "metadata": {},
   "outputs": [],
   "source": []
  }
 ],
 "metadata": {
  "kernelspec": {
   "display_name": "Python 3",
   "language": "python",
   "name": "python3"
  },
  "language_info": {
   "codemirror_mode": {
    "name": "ipython",
    "version": 3
   },
   "file_extension": ".py",
   "mimetype": "text/x-python",
   "name": "python",
   "nbconvert_exporter": "python",
   "pygments_lexer": "ipython3",
   "version": "3.8.5"
  }
 },
 "nbformat": 4,
 "nbformat_minor": 2
}
